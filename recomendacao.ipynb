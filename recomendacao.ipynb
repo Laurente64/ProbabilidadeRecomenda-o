{
 "cells": [
  {
   "cell_type": "markdown",
   "metadata": {},
   "source": [
    "<h1 style=\"text-align: center; color: grey;\">Recomendação de Produtos</h1>\n",
    "<h1 style=\"text-align: center; color: grey;\">________________________</h1>"
   ]
  },
  {
   "cell_type": "markdown",
   "metadata": {},
   "source": [
    "<h2 style=\"text-align: center; color: grey;\">Importação de Bibliotecas</h2>"
   ]
  },
  {
   "cell_type": "code",
   "execution_count": 1,
   "metadata": {},
   "outputs": [],
   "source": [
    "import pandas as pd\n",
    "import numpy as np"
   ]
  },
  {
   "cell_type": "markdown",
   "metadata": {},
   "source": [
    "<h2 style=\"text-align: center; color: grey;\">Lendo a Base de Dados</h2>"
   ]
  },
  {
   "cell_type": "code",
   "execution_count": null,
   "metadata": {},
   "outputs": [],
   "source": [
    "df= pd.read_excel('./loja.xlsx')"
   ]
  },
  {
   "cell_type": "markdown",
   "metadata": {},
   "source": [
    "<h2 style=\"text-align: center; color: grey;\">Limpando os Dados</h2>"
   ]
  },
  {
   "cell_type": "code",
   "execution_count": null,
   "metadata": {},
   "outputs": [],
   "source": [
    "# Definindo apenas a colunas que precisamos\n",
    "df = df['Order ID', 'Sub-Category']\n",
    "\n",
    "# Removendo duplicatas\n",
    "df = df.drop_duplicates()"
   ]
  },
  {
   "cell_type": "markdown",
   "metadata": {},
   "source": [
    "<h2 style=\"text-align: center; color: grey;\">Agrupando os Produtos por Cliente (Carrinhos de Compra)</h2>"
   ]
  },
  {
   "cell_type": "code",
   "execution_count": null,
   "metadata": {},
   "outputs": [],
   "source": [
    "compras = df.groupby('Order ID')['Sub-Category'].agg(list).reset_index()\n",
    "display(compras)"
   ]
  },
  {
   "cell_type": "markdown",
   "metadata": {},
   "source": [
    "<h2 style=\"text-align: center; color: grey;\">Lógica de Recomendação</h2>"
   ]
  },
  {
   "cell_type": "code",
   "execution_count": null,
   "metadata": {},
   "outputs": [],
   "source": [
    "# lista = compras['Sub-Category']\n",
    "# qnt = int(input(\"Digite a quantidade de produtos comprados\"))\n",
    "# print(lista)\n",
    " \n",
    "# for i in range(qnt):\n",
    "#     produto =input(f\"Digite o {i+1}° produto comprado\")\n",
    " \n",
    "#     produtos.append(produto)\n",
    "# print(produtos)\n",
    "\n",
    "produtos = ['Binders']\n",
    "possiveis = []\n",
    "qnt = 1\n",
    "\n",
    "for x in range(len(compras)):\n",
    "    if len(compras['Sub-Category'][x]) > qnt and np.isin(produtos, compras['Sub-Category'][x]).all():\n",
    "        possiveis.append(list(set(compras['Sub-Category'][x]) - set(produtos)))\n",
    "    \n",
    "print(possiveis)"
   ]
  },
  {
   "cell_type": "markdown",
   "metadata": {},
   "source": [
    "<h2 style=\"text-align: center; color: grey;\">Descobrindo os Clientes que Não Compraram Nada</h2>"
   ]
  },
  {
   "cell_type": "code",
   "execution_count": null,
   "metadata": {},
   "outputs": [],
   "source": [
    "ocorrencias = df['Sub-Category'].value_counts()\n",
    "display(ocorrencias)\n",
    "\n",
    "mais_ocorrencias = ocorrencias.idxmax()\n",
    "display(mais_ocorrencias)"
   ]
  }
 ],
 "metadata": {
  "kernelspec": {
   "display_name": "Python 3",
   "language": "python",
   "name": "python3"
  },
  "language_info": {
   "codemirror_mode": {
    "name": "ipython",
    "version": 3
   },
   "file_extension": ".py",
   "mimetype": "text/x-python",
   "name": "python",
   "nbconvert_exporter": "python",
   "pygments_lexer": "ipython3",
   "version": "3.11.5"
  }
 },
 "nbformat": 4,
 "nbformat_minor": 2
}
