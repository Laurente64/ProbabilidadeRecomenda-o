{
 "cells": [
  {
   "cell_type": "markdown",
   "metadata": {},
   "source": [
    "<h2 style=\"text-align: center; color: grey;\">Importações</h2>"
   ]
  },
  {
   "cell_type": "code",
   "execution_count": 19,
   "metadata": {},
   "outputs": [],
   "source": [
    "import pandas as pd\n",
    "import numpy as np"
   ]
  },
  {
   "cell_type": "markdown",
   "metadata": {},
   "source": [
    "<h2 style=\"text-align: center; color: grey;\">Lendo a Base de Dados</h2>"
   ]
  },
  {
   "cell_type": "code",
   "execution_count": null,
   "metadata": {},
   "outputs": [],
   "source": [
    "df= pd.read_excel('./loja.xlsx')"
   ]
  },
  {
   "cell_type": "markdown",
   "metadata": {},
   "source": [
    "<h2 style=\"text-align: center; color: grey;\">Limpando </h2>"
   ]
  },
  {
   "cell_type": "code",
   "execution_count": 1,
   "metadata": {},
   "outputs": [
    {
     "ename": "NameError",
     "evalue": "name 'df' is not defined",
     "output_type": "error",
     "traceback": [
      "\u001b[1;31m---------------------------------------------------------------------------\u001b[0m",
      "\u001b[1;31mNameError\u001b[0m                                 Traceback (most recent call last)",
      "Cell \u001b[1;32mIn[1], line 1\u001b[0m\n\u001b[1;32m----> 1\u001b[0m df \u001b[38;5;241m=\u001b[39m \u001b[43mdf\u001b[49m[\u001b[38;5;124m'\u001b[39m\u001b[38;5;124mOrder ID\u001b[39m\u001b[38;5;124m'\u001b[39m, \u001b[38;5;124m'\u001b[39m\u001b[38;5;124mSub-Category\u001b[39m\u001b[38;5;124m'\u001b[39m]\n\u001b[0;32m      3\u001b[0m df \u001b[38;5;241m=\u001b[39m df\u001b[38;5;241m.\u001b[39mdrop_duplicates()\n\u001b[0;32m      4\u001b[0m df\n",
      "\u001b[1;31mNameError\u001b[0m: name 'df' is not defined"
     ]
    }
   ],
   "source": [
    "\n",
    "df = df['Order ID', 'Sub-Category']\n",
    "\n",
    "df = df.drop_duplicates()\n",
    "df"
   ]
  },
  {
   "cell_type": "code",
   "execution_count": null,
   "metadata": {},
   "outputs": [
    {
     "data": {
      "text/html": [
       "<div>\n",
       "<style scoped>\n",
       "    .dataframe tbody tr th:only-of-type {\n",
       "        vertical-align: middle;\n",
       "    }\n",
       "\n",
       "    .dataframe tbody tr th {\n",
       "        vertical-align: top;\n",
       "    }\n",
       "\n",
       "    .dataframe thead th {\n",
       "        text-align: right;\n",
       "    }\n",
       "</style>\n",
       "<table border=\"1\" class=\"dataframe\">\n",
       "  <thead>\n",
       "    <tr style=\"text-align: right;\">\n",
       "      <th></th>\n",
       "      <th>Order ID</th>\n",
       "      <th>Sub-Category</th>\n",
       "    </tr>\n",
       "  </thead>\n",
       "  <tbody>\n",
       "    <tr>\n",
       "      <th>0</th>\n",
       "      <td>CA-2016-152156</td>\n",
       "      <td>Bookcases</td>\n",
       "    </tr>\n",
       "    <tr>\n",
       "      <th>1</th>\n",
       "      <td>CA-2016-152156</td>\n",
       "      <td>Chairs</td>\n",
       "    </tr>\n",
       "    <tr>\n",
       "      <th>2</th>\n",
       "      <td>CA-2016-138688</td>\n",
       "      <td>Labels</td>\n",
       "    </tr>\n",
       "    <tr>\n",
       "      <th>3</th>\n",
       "      <td>US-2015-108966</td>\n",
       "      <td>Tables</td>\n",
       "    </tr>\n",
       "    <tr>\n",
       "      <th>4</th>\n",
       "      <td>US-2015-108966</td>\n",
       "      <td>Storage</td>\n",
       "    </tr>\n",
       "    <tr>\n",
       "      <th>...</th>\n",
       "      <td>...</td>\n",
       "      <td>...</td>\n",
       "    </tr>\n",
       "    <tr>\n",
       "      <th>9989</th>\n",
       "      <td>CA-2014-110422</td>\n",
       "      <td>Furnishings</td>\n",
       "    </tr>\n",
       "    <tr>\n",
       "      <th>9990</th>\n",
       "      <td>CA-2017-121258</td>\n",
       "      <td>Furnishings</td>\n",
       "    </tr>\n",
       "    <tr>\n",
       "      <th>9991</th>\n",
       "      <td>CA-2017-121258</td>\n",
       "      <td>Phones</td>\n",
       "    </tr>\n",
       "    <tr>\n",
       "      <th>9992</th>\n",
       "      <td>CA-2017-121258</td>\n",
       "      <td>Paper</td>\n",
       "    </tr>\n",
       "    <tr>\n",
       "      <th>9993</th>\n",
       "      <td>CA-2017-119914</td>\n",
       "      <td>Appliances</td>\n",
       "    </tr>\n",
       "  </tbody>\n",
       "</table>\n",
       "<p>9159 rows × 2 columns</p>\n",
       "</div>"
      ],
      "text/plain": [
       "            Order ID Sub-Category\n",
       "0     CA-2016-152156    Bookcases\n",
       "1     CA-2016-152156       Chairs\n",
       "2     CA-2016-138688       Labels\n",
       "3     US-2015-108966       Tables\n",
       "4     US-2015-108966      Storage\n",
       "...              ...          ...\n",
       "9989  CA-2014-110422  Furnishings\n",
       "9990  CA-2017-121258  Furnishings\n",
       "9991  CA-2017-121258       Phones\n",
       "9992  CA-2017-121258        Paper\n",
       "9993  CA-2017-119914   Appliances\n",
       "\n",
       "[9159 rows x 2 columns]"
      ]
     },
     "execution_count": 5,
     "metadata": {},
     "output_type": "execute_result"
    }
   ],
   "source": []
  },
  {
   "cell_type": "markdown",
   "metadata": {},
   "source": [
    "### Pegando os com mais ocorrências"
   ]
  },
  {
   "cell_type": "code",
   "execution_count": 6,
   "metadata": {},
   "outputs": [
    {
     "data": {
      "text/plain": [
       "Sub-Category\n",
       "Binders        1316\n",
       "Paper          1191\n",
       "Furnishings     877\n",
       "Phones          814\n",
       "Storage         777\n",
       "Art             731\n",
       "Accessories     718\n",
       "Chairs          576\n",
       "Appliances      451\n",
       "Labels          346\n",
       "Tables          307\n",
       "Envelopes       249\n",
       "Bookcases       224\n",
       "Fasteners       215\n",
       "Supplies        187\n",
       "Machines        112\n",
       "Copiers          68\n",
       "Name: count, dtype: int64"
      ]
     },
     "metadata": {},
     "output_type": "display_data"
    },
    {
     "data": {
      "text/plain": [
       "'Binders'"
      ]
     },
     "metadata": {},
     "output_type": "display_data"
    }
   ],
   "source": [
    "ocorrencias = df['Sub-Category'].value_counts()\n",
    "display(ocorrencias)\n",
    "\n",
    "mais_ocorrencias = ocorrencias.idxmax()\n",
    "display(mais_ocorrencias)"
   ]
  },
  {
   "cell_type": "markdown",
   "metadata": {},
   "source": [
    "### Separando compras por carrinho"
   ]
  },
  {
   "cell_type": "code",
   "execution_count": 7,
   "metadata": {},
   "outputs": [
    {
     "data": {
      "text/html": [
       "<div>\n",
       "<style scoped>\n",
       "    .dataframe tbody tr th:only-of-type {\n",
       "        vertical-align: middle;\n",
       "    }\n",
       "\n",
       "    .dataframe tbody tr th {\n",
       "        vertical-align: top;\n",
       "    }\n",
       "\n",
       "    .dataframe thead th {\n",
       "        text-align: right;\n",
       "    }\n",
       "</style>\n",
       "<table border=\"1\" class=\"dataframe\">\n",
       "  <thead>\n",
       "    <tr style=\"text-align: right;\">\n",
       "      <th></th>\n",
       "      <th>Order ID</th>\n",
       "      <th>Sub-Category</th>\n",
       "    </tr>\n",
       "  </thead>\n",
       "  <tbody>\n",
       "    <tr>\n",
       "      <th>0</th>\n",
       "      <td>CA-2014-100006</td>\n",
       "      <td>[Phones]</td>\n",
       "    </tr>\n",
       "    <tr>\n",
       "      <th>1</th>\n",
       "      <td>CA-2014-100090</td>\n",
       "      <td>[Tables, Binders]</td>\n",
       "    </tr>\n",
       "    <tr>\n",
       "      <th>2</th>\n",
       "      <td>CA-2014-100293</td>\n",
       "      <td>[Paper]</td>\n",
       "    </tr>\n",
       "    <tr>\n",
       "      <th>3</th>\n",
       "      <td>CA-2014-100328</td>\n",
       "      <td>[Binders]</td>\n",
       "    </tr>\n",
       "    <tr>\n",
       "      <th>4</th>\n",
       "      <td>CA-2014-100363</td>\n",
       "      <td>[Fasteners, Paper]</td>\n",
       "    </tr>\n",
       "    <tr>\n",
       "      <th>...</th>\n",
       "      <td>...</td>\n",
       "      <td>...</td>\n",
       "    </tr>\n",
       "    <tr>\n",
       "      <th>5004</th>\n",
       "      <td>US-2017-168802</td>\n",
       "      <td>[Binders]</td>\n",
       "    </tr>\n",
       "    <tr>\n",
       "      <th>5005</th>\n",
       "      <td>US-2017-169320</td>\n",
       "      <td>[Art, Accessories]</td>\n",
       "    </tr>\n",
       "    <tr>\n",
       "      <th>5006</th>\n",
       "      <td>US-2017-169488</td>\n",
       "      <td>[Paper]</td>\n",
       "    </tr>\n",
       "    <tr>\n",
       "      <th>5007</th>\n",
       "      <td>US-2017-169502</td>\n",
       "      <td>[Supplies, Appliances]</td>\n",
       "    </tr>\n",
       "    <tr>\n",
       "      <th>5008</th>\n",
       "      <td>US-2017-169551</td>\n",
       "      <td>[Bookcases, Paper, Phones, Storage, Accessories]</td>\n",
       "    </tr>\n",
       "  </tbody>\n",
       "</table>\n",
       "<p>5009 rows × 2 columns</p>\n",
       "</div>"
      ],
      "text/plain": [
       "            Order ID                                      Sub-Category\n",
       "0     CA-2014-100006                                          [Phones]\n",
       "1     CA-2014-100090                                 [Tables, Binders]\n",
       "2     CA-2014-100293                                           [Paper]\n",
       "3     CA-2014-100328                                         [Binders]\n",
       "4     CA-2014-100363                                [Fasteners, Paper]\n",
       "...              ...                                               ...\n",
       "5004  US-2017-168802                                         [Binders]\n",
       "5005  US-2017-169320                                [Art, Accessories]\n",
       "5006  US-2017-169488                                           [Paper]\n",
       "5007  US-2017-169502                            [Supplies, Appliances]\n",
       "5008  US-2017-169551  [Bookcases, Paper, Phones, Storage, Accessories]\n",
       "\n",
       "[5009 rows x 2 columns]"
      ]
     },
     "metadata": {},
     "output_type": "display_data"
    }
   ],
   "source": [
    "compras = df.groupby('Order ID')['Sub-Category'].agg(list).reset_index()\n",
    "display(compras)"
   ]
  },
  {
   "cell_type": "code",
   "execution_count": null,
   "metadata": {},
   "outputs": [
    {
     "data": {
      "text/plain": [
       "0                                               [Phones]\n",
       "1                                      [Tables, Binders]\n",
       "2                                                [Paper]\n",
       "3                                              [Binders]\n",
       "4                                     [Fasteners, Paper]\n",
       "                              ...                       \n",
       "5004                                           [Binders]\n",
       "5005                                  [Art, Accessories]\n",
       "5006                                             [Paper]\n",
       "5007                              [Supplies, Appliances]\n",
       "5008    [Bookcases, Paper, Phones, Storage, Accessories]\n",
       "Name: Sub-Category, Length: 5009, dtype: object"
      ]
     },
     "metadata": {},
     "output_type": "display_data"
    },
    {
     "name": "stdout",
     "output_type": "stream",
     "text": [
      "            0\n",
      "0      Phones\n",
      "1       Paper\n",
      "2     Binders\n",
      "3       Paper\n",
      "4      Labels\n",
      "...       ...\n",
      "2658   Chairs\n",
      "2659   Chairs\n",
      "2660  Binders\n",
      "2661  Binders\n",
      "2662    Paper\n",
      "\n",
      "[2663 rows x 1 columns]\n"
     ]
    }
   ],
   "source": [
    "produtos = compras['Sub-Category']\n",
    "display(produtos)\n",
    "sozinhos=[]\n",
    "\n",
    "for x in range(len(produtos)):\n",
    "    if len(produtos[x])== 1:\n",
    "        sozinhos.append(produtos[x])\n",
    "df = pd.DataFrame(sozinhos)\n",
    "print(df)"
   ]
  },
  {
   "cell_type": "code",
   "execution_count": 28,
   "metadata": {},
   "outputs": [
    {
     "name": "stdout",
     "output_type": "stream",
     "text": [
      "[['Tables'], ['Furnishings', 'Art', 'Paper'], ['Supplies', 'Bookcases', 'Storage'], ['Labels'], ['Furnishings'], ['Appliances', 'Paper', 'Phones'], ['Phones'], ['Labels'], ['Furnishings', 'Storage'], ['Labels', 'Accessories', 'Furnishings', 'Phones', 'Storage'], ['Furnishings'], ['Accessories', 'Phones', 'Envelopes'], ['Accessories', 'Tables', 'Art', 'Phones'], ['Furnishings'], ['Chairs', 'Paper', 'Accessories', 'Fasteners', 'Storage', 'Art'], ['Paper'], ['Furnishings'], ['Storage'], ['Accessories'], ['Supplies', 'Paper'], ['Paper', 'Labels', 'Furnishings', 'Phones', 'Machines'], ['Art'], ['Fasteners', 'Furnishings', 'Chairs'], ['Accessories', 'Fasteners', 'Paper'], ['Paper'], ['Storage'], ['Accessories', 'Bookcases'], ['Labels', 'Storage'], ['Bookcases', 'Art', 'Paper'], ['Art', 'Envelopes'], ['Labels', 'Storage'], ['Furnishings'], ['Accessories', 'Furnishings', 'Storage'], ['Paper', 'Chairs'], ['Accessories', 'Storage'], ['Phones', 'Furnishings', 'Labels'], ['Appliances', 'Furnishings', 'Phones', 'Tables', 'Art'], ['Paper', 'Storage'], ['Phones'], ['Tables', 'Storage', 'Chairs'], ['Paper'], ['Appliances', 'Art', 'Paper'], ['Art', 'Labels', 'Storage'], ['Paper'], ['Appliances', 'Storage'], ['Supplies', 'Chairs'], ['Fasteners', 'Furnishings', 'Labels'], ['Phones'], ['Envelopes'], ['Fasteners', 'Art', 'Phones'], ['Appliances'], ['Phones'], ['Envelopes'], ['Furnishings'], ['Accessories'], ['Phones', 'Labels'], ['Phones'], ['Machines', 'Tables', 'Paper', 'Phones'], ['Fasteners'], ['Paper', 'Appliances', 'Phones', 'Storage', 'Art'], ['Paper', 'Storage'], ['Envelopes', 'Paper', 'Chairs'], ['Accessories', 'Tables'], ['Phones'], ['Appliances'], ['Bookcases'], ['Accessories', 'Appliances'], ['Appliances', 'Envelopes'], ['Phones'], ['Appliances', 'Envelopes', 'Chairs'], ['Paper', 'Labels', 'Accessories', 'Phones', 'Storage', 'Supplies'], ['Tables'], ['Art', 'Chairs'], ['Furnishings', 'Paper', 'Phones'], ['Chairs'], ['Appliances'], ['Accessories', 'Envelopes', 'Storage'], ['Furnishings'], ['Paper'], ['Appliances'], ['Phones'], ['Tables', 'Storage'], ['Accessories', 'Paper', 'Labels', 'Storage'], ['Envelopes', 'Accessories', 'Appliances', 'Furnishings', 'Machines'], ['Storage'], ['Paper'], ['Accessories'], ['Fasteners'], ['Paper', 'Phones', 'Envelopes'], ['Paper', 'Chairs'], ['Appliances', 'Paper'], ['Furnishings', 'Paper'], ['Art', 'Phones'], ['Paper', 'Storage'], ['Chairs'], ['Storage'], ['Paper'], ['Art', 'Phones'], ['Fasteners', 'Furnishings'], ['Appliances', 'Furnishings'], ['Chairs', 'Paper', 'Furnishings', 'Tables', 'Art'], ['Storage'], ['Bookcases', 'Paper', 'Envelopes'], ['Chairs'], ['Paper'], ['Accessories', 'Fasteners'], ['Art', 'Storage'], ['Furnishings', 'Paper', 'Storage'], ['Paper', 'Phones'], ['Appliances', 'Paper'], ['Labels'], ['Accessories', 'Art'], ['Accessories'], ['Bookcases', 'Phones'], ['Labels', 'Paper', 'Phones'], ['Art', 'Furnishings', 'Chairs'], ['Art'], ['Paper'], ['Paper'], ['Furnishings'], ['Supplies', 'Chairs'], ['Supplies', 'Tables'], ['Phones'], ['Fasteners'], ['Accessories', 'Envelopes', 'Storage'], ['Art', 'Phones', 'Paper', 'Labels'], ['Tables', 'Bookcases', 'Furnishings', 'Storage'], ['Art'], ['Chairs'], ['Art', 'Paper', 'Phones'], ['Paper'], ['Tables', 'Furnishings', 'Storage'], ['Tables', 'Art', 'Chairs'], ['Paper', 'Phones', 'Storage', 'Machines', 'Bookcases'], ['Appliances', 'Fasteners', 'Storage'], ['Chairs', 'Paper', 'Fasteners', 'Phones', 'Art'], ['Art', 'Appliances', 'Furnishings', 'Storage'], ['Bookcases'], ['Furnishings', 'Storage', 'Labels', 'Chairs'], ['Accessories', 'Appliances', 'Furnishings'], ['Accessories', 'Supplies', 'Paper', 'Art'], ['Paper'], ['Tables', 'Envelopes'], ['Fasteners', 'Paper'], ['Storage'], ['Labels', 'Furnishings', 'Paper'], ['Accessories'], ['Accessories'], ['Art', 'Labels', 'Storage'], ['Phones'], ['Accessories', 'Furnishings'], ['Art'], ['Supplies', 'Storage'], ['Chairs', 'Furnishings', 'Storage'], ['Copiers', 'Art', 'Paper'], ['Bookcases', 'Paper'], ['Bookcases', 'Paper'], ['Envelopes'], ['Accessories', 'Furnishings'], ['Fasteners', 'Envelopes'], ['Appliances', 'Art'], ['Furnishings', 'Phones', 'Chairs'], ['Fasteners', 'Furnishings', 'Labels'], ['Art', 'Envelopes'], ['Accessories', 'Phones'], ['Copiers', 'Paper'], ['Phones', 'Storage'], ['Accessories', 'Appliances'], ['Art', 'Furnishings'], ['Paper', 'Chairs'], ['Paper'], ['Art'], ['Paper', 'Storage'], ['Accessories', 'Bookcases', 'Machines'], ['Supplies', 'Furnishings', 'Storage'], ['Copiers', 'Appliances', 'Fasteners', 'Phones'], ['Supplies', 'Paper', 'Labels'], ['Art', 'Storage', 'Labels', 'Envelopes'], ['Supplies', 'Storage'], ['Art', 'Phones', 'Chairs'], ['Phones'], ['Paper', 'Chairs'], ['Phones'], ['Bookcases'], ['Furnishings', 'Labels', 'Chairs'], ['Storage', 'Chairs'], ['Art', 'Storage'], ['Appliances', 'Paper'], ['Furnishings'], ['Phones'], ['Paper', 'Storage'], ['Art', 'Labels', 'Envelopes'], ['Labels', 'Furnishings', 'Paper'], ['Phones'], ['Appliances', 'Paper'], ['Appliances'], ['Paper'], ['Paper', 'Storage'], ['Bookcases', 'Furnishings', 'Phones', 'Storage'], ['Chairs', 'Furnishings', 'Phones', 'Storage', 'Art'], ['Copiers', 'Appliances', 'Furnishings', 'Storage'], ['Fasteners', 'Phones'], ['Furnishings', 'Paper'], ['Furnishings', 'Phones'], ['Art', 'Furnishings', 'Phones'], ['Fasteners', 'Furnishings', 'Paper'], ['Accessories', 'Art', 'Paper'], ['Appliances', 'Paper', 'Phones', 'Storage'], ['Appliances', 'Furnishings', 'Paper', 'Labels'], ['Art', 'Furnishings', 'Phones', 'Chairs'], ['Machines', 'Fasteners'], ['Tables', 'Paper', 'Envelopes'], ['Fasteners'], ['Accessories'], ['Appliances', 'Art'], ['Supplies', 'Appliances', 'Phones'], ['Phones'], ['Bookcases'], ['Appliances', 'Storage'], ['Paper', 'Accessories', 'Fasteners', 'Furnishings', 'Phones', 'Storage', 'Tables'], ['Appliances'], ['Labels', 'Fasteners', 'Furnishings', 'Storage', 'Machines', 'Art'], ['Furnishings', 'Phones', 'Storage'], ['Art', 'Phones'], ['Phones'], ['Paper', 'Phones', 'Storage'], ['Bookcases', 'Paper', 'Labels'], ['Accessories', 'Furnishings', 'Paper'], ['Accessories', 'Phones'], ['Accessories'], ['Labels'], ['Tables', 'Phones'], ['Furnishings', 'Phones'], ['Accessories', 'Storage'], ['Art', 'Phones', 'Chairs'], ['Furnishings'], ['Copiers'], ['Bookcases', 'Furnishings', 'Phones'], ['Furnishings'], ['Art', 'Storage'], ['Paper'], ['Appliances', 'Furnishings', 'Storage'], ['Paper'], ['Phones', 'Furnishings', 'Paper'], ['Copiers', 'Storage'], ['Appliances', 'Furnishings'], ['Storage'], ['Tables', 'Paper'], ['Phones'], ['Art', 'Furnishings', 'Chairs'], ['Paper'], ['Furnishings'], ['Fasteners'], ['Art', 'Storage'], ['Phones'], ['Accessories', 'Phones'], ['Tables', 'Storage'], ['Machines'], ['Art'], ['Accessories', 'Art'], ['Accessories'], ['Furnishings', 'Paper'], ['Paper'], ['Paper'], ['Appliances', 'Paper', 'Labels', 'Storage'], ['Accessories', 'Art'], ['Chairs'], ['Paper', 'Storage'], ['Furnishings'], ['Furnishings', 'Chairs'], ['Accessories'], ['Accessories', 'Furnishings'], ['Art'], ['Paper'], ['Accessories', 'Phones'], ['Furnishings'], ['Art', 'Paper'], ['Paper', 'Chairs'], ['Art', 'Paper'], ['Accessories', 'Phones'], ['Accessories', 'Storage'], ['Chairs', 'Paper', 'Envelopes', 'Phones', 'Storage'], ['Fasteners'], ['Appliances'], ['Envelopes', 'Phones', 'Storage'], ['Appliances', 'Fasteners', 'Art', 'Phones'], ['Art'], ['Paper', 'Labels', 'Furnishings', 'Storage', 'Art'], ['Supplies'], ['Art'], ['Machines', 'Furnishings', 'Art', 'Storage'], ['Labels'], ['Bookcases', 'Storage'], ['Accessories', 'Fasteners', 'Tables', 'Storage'], ['Paper'], ['Chairs', 'Paper', 'Fasteners', 'Phones', 'Storage', 'Supplies', 'Bookcases', 'Art'], ['Phones'], ['Appliances', 'Furnishings', 'Phones', 'Storage', 'Bookcases'], ['Bookcases', 'Furnishings'], ['Fasteners'], ['Chairs'], ['Furnishings'], ['Paper', 'Fasteners', 'Furnishings', 'Machines', 'Art'], ['Paper'], ['Art', 'Paper'], ['Supplies'], ['Paper'], ['Furnishings', 'Storage', 'Phones', 'Envelopes'], ['Envelopes'], ['Tables'], ['Storage'], ['Accessories', 'Appliances', 'Tables', 'Art'], ['Tables', 'Appliances'], ['Bookcases', 'Appliances'], ['Furnishings'], ['Accessories', 'Machines'], ['Accessories', 'Art'], ['Appliances', 'Fasteners', 'Paper'], ['Supplies', 'Art', 'Phones', 'Storage'], ['Paper'], ['Supplies', 'Appliances', 'Tables', 'Furnishings'], ['Storage'], ['Tables', 'Appliances', 'Furnishings'], ['Appliances'], ['Supplies', 'Chairs'], ['Chairs', 'Paper', 'Accessories', 'Storage', 'Art'], ['Phones'], ['Storage', 'Chairs'], ['Paper', 'Phones'], ['Supplies', 'Art', 'Paper'], ['Supplies', 'Appliances'], ['Accessories'], ['Art'], ['Paper'], ['Paper'], ['Appliances', 'Furnishings', 'Paper'], ['Phones', 'Chairs'], ['Chairs', 'Storage'], ['Phones'], ['Furnishings'], ['Labels'], ['Appliances', 'Art', 'Phones'], ['Fasteners'], ['Storage'], ['Fasteners', 'Chairs', 'Storage'], ['Furnishings', 'Chairs'], ['Tables'], ['Art'], ['Art', 'Paper'], ['Paper', 'Storage'], ['Accessories'], ['Copiers', 'Art', 'Storage'], ['Paper'], ['Furnishings'], ['Bookcases'], ['Furnishings'], ['Chairs', 'Paper', 'Appliances', 'Furnishings', 'Storage', 'Art'], ['Accessories'], ['Supplies', 'Furnishings'], ['Appliances', 'Storage'], ['Furnishings', 'Paper'], ['Appliances', 'Phones', 'Paper', 'Labels'], ['Accessories', 'Paper'], ['Paper'], ['Paper'], ['Labels'], ['Accessories', 'Furnishings', 'Paper', 'Storage'], ['Furnishings', 'Chairs'], ['Envelopes'], ['Furnishings'], ['Furnishings', 'Phones', 'Storage', 'Tables', 'Art'], ['Appliances'], ['Fasteners', 'Storage', 'Phones', 'Chairs'], ['Phones'], ['Accessories', 'Appliances', 'Paper'], ['Phones'], ['Paper'], ['Fasteners', 'Labels'], ['Chairs', 'Labels', 'Accessories', 'Furnishings', 'Machines'], ['Art'], ['Paper', 'Labels', 'Fasteners', 'Furnishings', 'Storage'], ['Labels', 'Phones'], ['Accessories', 'Paper'], ['Accessories', 'Envelopes'], ['Accessories', 'Chairs'], ['Accessories', 'Paper'], ['Art', 'Furnishings', 'Storage'], ['Appliances', 'Paper'], ['Appliances'], ['Paper', 'Phones', 'Storage'], ['Envelopes'], ['Art', 'Phones'], ['Machines', 'Paper'], ['Accessories'], ['Accessories'], ['Paper'], ['Accessories', 'Appliances', 'Machines', 'Paper'], ['Tables'], ['Paper', 'Phones', 'Envelopes'], ['Furnishings'], ['Bookcases', 'Fasteners', 'Art', 'Storage'], ['Appliances', 'Envelopes'], ['Furnishings', 'Paper'], ['Paper', 'Envelopes'], ['Art', 'Paper'], ['Chairs'], ['Accessories', 'Storage'], ['Accessories'], ['Appliances', 'Paper'], ['Paper'], ['Appliances', 'Paper', 'Storage', 'Chairs'], ['Art'], ['Paper'], ['Art', 'Storage'], ['Appliances', 'Envelopes'], ['Chairs'], ['Accessories', 'Labels'], ['Furnishings', 'Paper', 'Storage'], ['Tables'], ['Copiers', 'Paper', 'Phones'], ['Paper'], ['Furnishings'], ['Accessories'], ['Paper', 'Labels', 'Accessories', 'Appliances', 'Furnishings', 'Phones'], ['Paper', 'Labels', 'Accessories', 'Phones', 'Tables', 'Art'], ['Bookcases'], ['Accessories', 'Art', 'Storage', 'Chairs'], ['Paper', 'Fasteners', 'Furnishings', 'Supplies', 'Art'], ['Tables', 'Fasteners', 'Paper', 'Phones'], ['Storage'], ['Chairs'], ['Paper', 'Chairs'], ['Machines'], ['Labels'], ['Furnishings'], ['Fasteners', 'Paper'], ['Paper'], ['Art', 'Appliances', 'Paper', 'Envelopes'], ['Bookcases'], ['Phones'], ['Paper', 'Storage', 'Chairs'], ['Labels', 'Storage'], ['Art'], ['Accessories', 'Furnishings', 'Paper', 'Art'], ['Art', 'Furnishings'], ['Appliances', 'Paper', 'Chairs'], ['Phones'], ['Supplies', 'Bookcases', 'Storage'], ['Paper'], ['Bookcases'], ['Tables', 'Phones'], ['Art', 'Furnishings'], ['Appliances'], ['Accessories', 'Paper', 'Art', 'Envelopes'], ['Furnishings', 'Paper'], ['Chairs'], ['Furnishings'], ['Phones'], ['Furnishings', 'Paper'], ['Art'], ['Accessories', 'Paper'], ['Paper', 'Appliances', 'Furnishings', 'Storage', 'Art'], ['Machines', 'Furnishings'], ['Chairs'], ['Machines'], ['Tables', 'Paper'], ['Envelopes'], ['Tables', 'Bookcases', 'Fasteners'], ['Tables'], ['Paper'], ['Supplies', 'Labels'], ['Supplies', 'Labels'], ['Accessories'], ['Chairs'], ['Copiers'], ['Paper'], ['Appliances', 'Art'], ['Paper', 'Chairs'], ['Bookcases', 'Furnishings', 'Paper', 'Storage'], ['Storage'], ['Storage'], ['Storage'], ['Tables', 'Labels'], ['Chairs', 'Paper', 'Accessories', 'Appliances', 'Storage', 'Tables', 'Art'], ['Paper', 'Labels'], ['Furnishings'], ['Furnishings', 'Paper'], ['Tables', 'Phones'], ['Tables', 'Furnishings', 'Storage'], ['Paper', 'Storage', 'Chairs'], ['Phones'], ['Phones'], ['Tables', 'Accessories'], ['Furnishings'], ['Appliances', 'Furnishings', 'Storage'], ['Chairs', 'Paper', 'Accessories', 'Fasteners', 'Phones', 'Storage'], ['Furnishings', 'Paper'], ['Paper', 'Phones'], ['Copiers', 'Art', 'Paper'], ['Furnishings'], ['Furnishings'], ['Accessories'], ['Furnishings', 'Storage'], ['Paper'], ['Paper'], ['Paper', 'Phones'], ['Accessories', 'Phones', 'Labels'], ['Chairs', 'Paper', 'Furnishings', 'Phones', 'Tables'], ['Art'], ['Furnishings', 'Storage'], ['Art'], ['Art', 'Furnishings', 'Phones'], ['Appliances', 'Phones'], ['Phones'], ['Furnishings', 'Phones', 'Supplies', 'Bookcases', 'Art'], ['Appliances', 'Paper', 'Storage'], ['Paper'], ['Art'], ['Accessories', 'Phones'], ['Paper'], ['Art', 'Phones', 'Chairs'], ['Storage'], ['Bookcases', 'Envelopes'], ['Accessories', 'Storage'], ['Bookcases'], ['Paper', 'Phones'], ['Furnishings'], ['Supplies', 'Paper', 'Storage'], ['Phones'], ['Accessories'], ['Paper'], ['Art', 'Paper', 'Chairs'], ['Storage'], ['Accessories', 'Furnishings', 'Labels'], ['Paper'], ['Paper', 'Storage'], ['Tables', 'Furnishings', 'Phones', 'Chairs'], ['Art', 'Appliances', 'Paper'], ['Art', 'Paper'], ['Accessories', 'Art', 'Paper'], ['Art', 'Paper'], ['Machines', 'Paper'], ['Appliances', 'Paper'], ['Labels'], ['Accessories', 'Appliances', 'Paper', 'Storage'], ['Fasteners', 'Furnishings', 'Storage'], ['Chairs'], ['Art'], ['Supplies'], ['Bookcases', 'Paper', 'Labels', 'Storage'], ['Storage'], ['Storage'], ['Machines'], ['Paper', 'Labels', 'Phones', 'Storage', 'Tables'], ['Furnishings'], ['Phones'], ['Tables'], ['Appliances', 'Phones'], ['Appliances', 'Paper'], ['Paper'], ['Supplies', 'Appliances', 'Tables'], ['Furnishings'], ['Furnishings', 'Phones'], ['Accessories', 'Tables', 'Storage'], ['Paper'], ['Furnishings'], ['Accessories', 'Appliances', 'Furnishings'], ['Phones'], ['Furnishings', 'Storage'], ['Accessories', 'Fasteners', 'Furnishings'], ['Paper'], ['Accessories', 'Fasteners', 'Furnishings', 'Phones', 'Art'], ['Storage'], ['Storage'], ['Accessories', 'Appliances', 'Chairs'], ['Appliances', 'Furnishings', 'Paper'], ['Paper', 'Chairs'], ['Bookcases', 'Art', 'Phones'], ['Accessories', 'Appliances', 'Labels', 'Chairs'], ['Paper', 'Labels'], ['Chairs', 'Labels', 'Storage'], ['Labels', 'Chairs'], ['Paper'], ['Storage'], ['Accessories'], ['Appliances'], ['Tables'], ['Tables', 'Furnishings'], ['Paper'], ['Storage'], ['Bookcases', 'Furnishings'], ['Tables', 'Art', 'Phones'], ['Art', 'Furnishings'], ['Paper'], ['Accessories'], ['Accessories', 'Machines', 'Phones'], ['Paper', 'Phones', 'Envelopes'], ['Machines', 'Furnishings'], ['Phones'], ['Accessories', 'Labels'], ['Chairs', 'Envelopes', 'Accessories', 'Appliances', 'Fasteners', 'Furnishings'], ['Chairs'], ['Appliances', 'Storage'], ['Appliances', 'Chairs'], ['Paper'], ['Chairs'], ['Phones', 'Storage'], ['Bookcases'], ['Art', 'Chairs'], ['Art'], ['Paper'], ['Accessories', 'Bookcases', 'Storage'], ['Tables', 'Fasteners', 'Furnishings'], ['Appliances', 'Storage'], ['Accessories'], ['Copiers'], ['Paper'], ['Paper'], ['Paper', 'Labels'], ['Phones'], ['Supplies', 'Art'], ['Machines', 'Bookcases', 'Paper', 'Storage'], ['Art'], ['Machines', 'Paper'], ['Art'], ['Fasteners', 'Phones', 'Storage'], ['Accessories', 'Phones'], ['Accessories', 'Furnishings'], ['Phones'], ['Furnishings'], ['Furnishings', 'Chairs'], ['Accessories', 'Art', 'Labels'], ['Accessories', 'Art', 'Storage'], ['Paper', 'Chairs'], ['Art', 'Furnishings'], ['Phones'], ['Paper', 'Phones'], ['Paper', 'Chairs'], ['Supplies', 'Art'], ['Phones', 'Art', 'Paper'], ['Paper'], ['Appliances', 'Fasteners', 'Furnishings', 'Chairs'], ['Accessories', 'Bookcases'], ['Paper', 'Accessories', 'Appliances', 'Phones', 'Bookcases'], ['Labels', 'Accessories', 'Phones', 'Storage', 'Art'], ['Supplies', 'Bookcases', 'Art'], ['Bookcases', 'Paper'], ['Phones', 'Storage'], ['Envelopes'], ['Paper'], ['Tables'], ['Bookcases', 'Phones'], ['Labels', 'Storage'], ['Phones', 'Labels'], ['Phones'], ['Copiers'], ['Appliances', 'Phones'], ['Paper', 'Chairs'], ['Accessories', 'Paper'], ['Supplies'], ['Storage'], ['Paper'], ['Appliances'], ['Copiers'], ['Labels'], ['Paper'], ['Tables', 'Fasteners', 'Phones', 'Storage'], ['Tables'], ['Phones', 'Labels'], ['Accessories', 'Phones'], ['Paper', 'Storage', 'Phones', 'Envelopes'], ['Furnishings'], ['Appliances'], ['Labels'], ['Accessories'], ['Chairs', 'Appliances', 'Furnishings', 'Storage', 'Art'], ['Accessories'], ['Labels'], ['Copiers', 'Paper', 'Accessories', 'Phones', 'Storage'], ['Accessories'], ['Accessories', 'Storage'], ['Accessories', 'Phones', 'Storage'], ['Appliances', 'Paper'], ['Appliances'], ['Tables'], ['Paper'], ['Appliances'], ['Appliances'], ['Machines', 'Furnishings', 'Chairs'], ['Tables', 'Paper'], ['Appliances', 'Fasteners', 'Paper'], ['Chairs', 'Paper', 'Accessories', 'Appliances', 'Furnishings', 'Phones'], ['Paper', 'Chairs'], ['Furnishings', 'Phones'], ['Paper'], ['Furnishings'], ['Chairs', 'Paper', 'Labels', 'Accessories', 'Appliances', 'Furnishings', 'Phones', 'Tables', 'Art'], ['Paper'], ['Supplies', 'Accessories'], ['Art', 'Paper'], ['Appliances', 'Bookcases', 'Phones'], ['Paper'], ['Art'], ['Storage'], ['Accessories', 'Appliances', 'Envelopes'], ['Accessories'], ['Accessories', 'Furnishings', 'Phones', 'Storage'], ['Accessories'], ['Copiers', 'Chairs', 'Paper', 'Appliances', 'Furnishings', 'Storage', 'Supplies'], ['Chairs'], ['Paper'], ['Accessories', 'Storage'], ['Furnishings', 'Paper'], ['Storage'], ['Furnishings', 'Chairs'], ['Appliances', 'Fasteners', 'Storage'], ['Envelopes', 'Accessories', 'Furnishings', 'Phones', 'Storage'], ['Labels', 'Fasteners', 'Phones'], ['Storage'], ['Paper', 'Envelopes', 'Appliances', 'Phones', 'Storage'], ['Tables'], ['Accessories', 'Paper', 'Phones'], ['Accessories'], ['Paper'], ['Storage'], ['Appliances', 'Furnishings', 'Paper', 'Storage'], ['Fasteners', 'Storage'], ['Accessories'], ['Appliances', 'Furnishings'], ['Paper'], ['Furnishings', 'Envelopes'], ['Storage'], ['Chairs'], ['Storage'], ['Phones'], ['Accessories'], ['Machines'], ['Art', 'Phones'], ['Accessories', 'Storage'], ['Accessories'], ['Bookcases', 'Paper', 'Envelopes'], ['Supplies', 'Accessories', 'Furnishings'], ['Accessories', 'Art'], ['Art'], ['Bookcases', 'Labels'], ['Fasteners', 'Furnishings', 'Paper'], ['Supplies', 'Appliances'], ['Appliances', 'Furnishings', 'Phones', 'Storage', 'Tables'], ['Tables', 'Chairs'], ['Storage'], ['Envelopes', 'Paper', 'Storage'], ['Furnishings', 'Chairs'], ['Tables', 'Phones'], ['Accessories'], ['Paper'], ['Labels'], ['Appliances'], ['Furnishings', 'Phones', 'Storage'], ['Envelopes'], ['Appliances', 'Paper', 'Chairs'], ['Supplies'], ['Appliances', 'Paper'], ['Furnishings'], ['Appliances'], ['Furnishings'], ['Paper'], ['Envelopes'], ['Appliances'], ['Bookcases', 'Phones'], ['Accessories', 'Furnishings', 'Paper', 'Art'], ['Furnishings'], ['Accessories', 'Furnishings', 'Paper', 'Phones'], ['Furnishings', 'Paper', 'Chairs'], ['Accessories', 'Supplies', 'Paper', 'Storage'], ['Phones', 'Labels'], ['Supplies'], ['Furnishings'], ['Furnishings', 'Chairs'], ['Chairs'], ['Accessories', 'Art', 'Phones'], ['Storage'], ['Art', 'Bookcases', 'Furnishings', 'Envelopes'], ['Art'], ['Appliances'], ['Accessories', 'Furnishings'], ['Accessories', 'Bookcases'], ['Phones'], ['Chairs', 'Paper', 'Accessories', 'Phones', 'Art'], ['Paper'], ['Phones'], ['Labels', 'Envelopes'], ['Chairs'], ['Bookcases'], ['Bookcases'], ['Tables'], ['Appliances', 'Storage'], ['Art', 'Fasteners', 'Paper', 'Phones'], ['Paper', 'Chairs'], ['Machines', 'Furnishings'], ['Appliances', 'Furnishings'], ['Accessories'], ['Paper', 'Envelopes', 'Fasteners', 'Furnishings', 'Phones', 'Storage'], ['Storage'], ['Appliances', 'Furnishings'], ['Chairs', 'Paper', 'Accessories', 'Phones', 'Storage', 'Machines'], ['Supplies'], ['Phones', 'Art', 'Paper'], ['Fasteners', 'Furnishings', 'Paper'], ['Paper'], ['Appliances'], ['Accessories', 'Storage'], ['Accessories', 'Tables', 'Paper', 'Phones'], ['Paper'], ['Tables', 'Bookcases', 'Accessories'], ['Accessories', 'Art', 'Labels'], ['Art', 'Chairs'], ['Art', 'Phones'], ['Labels', 'Accessories', 'Furnishings', 'Phones', 'Storage'], ['Storage'], ['Copiers', 'Storage'], ['Phones', 'Storage', 'Labels', 'Chairs'], ['Appliances', 'Paper', 'Storage'], ['Art'], ['Bookcases', 'Furnishings', 'Labels'], ['Art', 'Furnishings', 'Paper', 'Phones'], ['Phones'], ['Supplies'], ['Chairs', 'Storage'], ['Paper'], ['Phones'], ['Chairs'], ['Paper', 'Phones'], ['Machines', 'Accessories'], ['Appliances'], ['Tables'], ['Fasteners'], ['Art', 'Labels'], ['Accessories', 'Paper'], ['Accessories', 'Storage'], ['Paper', 'Phones', 'Envelopes'], ['Tables', 'Accessories', 'Furnishings'], ['Phones'], ['Phones'], ['Accessories'], ['Art', 'Phones'], ['Furnishings', 'Paper', 'Envelopes'], ['Storage'], ['Accessories', 'Storage'], ['Envelopes'], ['Furnishings'], ['Labels', 'Appliances', 'Furnishings', 'Phones', 'Tables', 'Art'], ['Furnishings'], ['Phones', 'Labels'], ['Chairs'], ['Chairs', 'Furnishings', 'Phones', 'Storage', 'Bookcases'], ['Art', 'Appliances', 'Furnishings', 'Chairs'], ['Copiers', 'Appliances', 'Art', 'Phones'], ['Furnishings', 'Storage'], ['Chairs', 'Accessories', 'Furnishings', 'Phones', 'Art'], ['Chairs'], ['Accessories', 'Appliances', 'Furnishings'], ['Paper'], ['Copiers', 'Chairs', 'Paper', 'Fasteners', 'Furnishings'], ['Paper', 'Accessories', 'Appliances', 'Furnishings', 'Storage'], ['Envelopes'], ['Appliances'], ['Appliances', 'Phones', 'Chairs'], ['Phones'], ['Accessories', 'Fasteners', 'Storage'], ['Bookcases', 'Storage'], ['Phones', 'Storage'], ['Tables', 'Phones', 'Storage'], ['Paper', 'Phones', 'Chairs'], ['Tables', 'Paper', 'Chairs'], ['Labels'], ['Accessories', 'Fasteners', 'Tables'], ['Paper', 'Storage'], ['Appliances', 'Paper'], ['Supplies', 'Chairs'], ['Paper'], ['Paper', 'Labels'], ['Accessories', 'Machines', 'Phones', 'Chairs'], ['Phones'], ['Storage'], ['Storage'], ['Art', 'Chairs'], ['Phones', 'Storage'], ['Tables', 'Furnishings', 'Paper'], ['Phones', 'Chairs'], ['Tables'], ['Envelopes', 'Fasteners', 'Furnishings', 'Storage', 'Art'], ['Accessories', 'Machines'], ['Appliances'], ['Phones', 'Storage'], ['Appliances', 'Phones'], ['Copiers', 'Labels', 'Accessories', 'Appliances', 'Storage']]\n"
     ]
    }
   ],
   "source": [
    "# lista = compras['Sub-Category']\n",
    "# qnt = int(input(\"Digite a quantidade de produtos comprados\"))\n",
    "# print(lista)\n",
    " \n",
    "# for i in range(qnt):\n",
    "#     produto =input(f\"Digite o {i+1}° produto comprado\")\n",
    " \n",
    "#     produtos.append(produto)\n",
    "# print(produtos)\n",
    "\n",
    "produtos = ['Binders']\n",
    "possiveis = []\n",
    "qnt = 1\n",
    "\n",
    "for x in range(len(compras)):\n",
    "    if len(compras['Sub-Category'][x]) > qnt and np.isin(produtos, compras['Sub-Category'][x]).all():\n",
    "        possiveis.append(list(set(compras['Sub-Category'][x]) - set(produtos)))\n",
    "    \n",
    "\n",
    "print(possiveis)\n",
    "\n",
    "\n",
    "\n",
    "#\n",
    "\n",
    "\n"
   ]
  },
  {
   "cell_type": "markdown",
   "metadata": {},
   "source": [
    "## Comprou nada"
   ]
  },
  {
   "cell_type": "code",
   "execution_count": null,
   "metadata": {},
   "outputs": [],
   "source": [
    "ocorrencias = df['Sub-Category'].value_counts()\n",
    "display(ocorrencias)\n",
    "\n",
    "mais_ocorrencias = ocorrencias.idxmax()\n",
    "display(mais_ocorrencias)"
   ]
  }
 ],
 "metadata": {
  "kernelspec": {
   "display_name": "Python 3",
   "language": "python",
   "name": "python3"
  },
  "language_info": {
   "codemirror_mode": {
    "name": "ipython",
    "version": 3
   },
   "file_extension": ".py",
   "mimetype": "text/x-python",
   "name": "python",
   "nbconvert_exporter": "python",
   "pygments_lexer": "ipython3",
   "version": "3.13.1"
  }
 },
 "nbformat": 4,
 "nbformat_minor": 2
}
